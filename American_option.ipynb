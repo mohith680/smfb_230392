{
  "nbformat": 4,
  "nbformat_minor": 0,
  "metadata": {
    "colab": {
      "provenance": []
    },
    "kernelspec": {
      "name": "python3",
      "display_name": "Python 3"
    },
    "language_info": {
      "name": "python"
    }
  },
  "cells": [
    {
      "cell_type": "code",
      "execution_count": 22,
      "metadata": {
        "colab": {
          "base_uri": "https://localhost:8080/"
        },
        "id": "k1pNN0gGzE2C",
        "outputId": "ed348388-872d-488f-f364-d854226cac96"
      },
      "outputs": [
        {
          "output_type": "stream",
          "name": "stdout",
          "text": [
            "0.693400000000\n"
          ]
        }
      ],
      "source": [
        "import numpy as np\n",
        "\n",
        "def check(start_price=120.00, target_price=121.00, steps=2160):\n",
        "    price = start_price\n",
        "    for _ in range(steps):\n",
        "        move = np.random.choice([0.01, 0, -0.01], p=[0.1, 0.85, 0.05])\n",
        "        price = round(price + move, 2)\n",
        "        if price >= target_price:\n",
        "            return True\n",
        "    return False\n",
        "\n",
        "\n",
        "n_simulations = 5000\n",
        "successes = sum(check() for _ in range(n_simulations))\n",
        "\n",
        "# Estimate probability\n",
        "probability = successes / n_simulations\n",
        "print(f\"{probability:.12f}\")\n"
      ]
    }
  ]
}